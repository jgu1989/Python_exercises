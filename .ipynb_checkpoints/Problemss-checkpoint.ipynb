{
 "cells": [
  {
   "cell_type": "code",
   "execution_count": 2,
   "metadata": {},
   "outputs": [],
   "source": [
    "def number():\n",
    "    \"\"\"\n",
    "    Question 1\n",
    "    Level 1\n",
    "\n",
    "    Question:\n",
    "    Write a program which will find all such numbers which are divisible by 7 but are not a multiple of 5,\n",
    "    between 2000 and 3200 (both included).\n",
    "    The numbers obtained should be printed in a comma-separated sequence on a single line.\n",
    "\n",
    "    \"\"\"\n",
    "    l = []\n",
    "    for i in range(2000,3201):\n",
    "        if i%7==0 and i%5!=0:\n",
    "            l.append(i)\n",
    "    return l"
   ]
  },
  {
   "cell_type": "code",
   "execution_count": 5,
   "metadata": {},
   "outputs": [
    {
     "name": "stdout",
     "output_type": "stream",
     "text": [
      "40320\n"
     ]
    }
   ],
   "source": [
    "def fac(n):\n",
    "    \"\"\"\n",
    "    Question 2\n",
    "    Level 1\n",
    "\n",
    "    Question:\n",
    "    Write a program which can compute the factorial of a given numbers.\n",
    "    The results should be printed in a comma-separated sequence on a single line.\n",
    "    Suppose the following input is supplied to the program:\n",
    "    8\n",
    "    Then, the output should be:\n",
    "    40320\n",
    "    \"\"\"\n",
    "    if n==1: return 1\n",
    "    else: return n*fac(n-1)\n",
    "\n",
    "print(fac(8))"
   ]
  },
  {
   "cell_type": "code",
   "execution_count": 7,
   "metadata": {},
   "outputs": [
    {
     "data": {
      "text/plain": [
       "{1: 1, 2: 4, 3: 9, 4: 16, 5: 25, 6: 36, 7: 49, 8: 64}"
      ]
     },
     "execution_count": 7,
     "metadata": {},
     "output_type": "execute_result"
    }
   ],
   "source": [
    "def square(n):\n",
    "    \"\"\"\n",
    "    Question 3\n",
    "    Level 1\n",
    "\n",
    "    Question:\n",
    "    With a given integral number n, write a program to generate a dictionary that contains (i, i*i) \n",
    "    such that is an integral number between 1 and n (both included). and then the program should print the dictionary.\n",
    "    Suppose the following input is supplied to the program:\n",
    "    8\n",
    "    Then, the output should be:\n",
    "    {1: 1, 2: 4, 3: 9, 4: 16, 5: 25, 6: 36, 7: 49, 8: 64}\n",
    "\n",
    "    \"\"\"\n",
    "    dict = {}\n",
    "    for i in range(1,n+1):\n",
    "        dict[i]=i*i\n",
    "    return dict\n",
    "square(8)"
   ]
  },
  {
   "cell_type": "code",
   "execution_count": 22,
   "metadata": {},
   "outputs": [
    {
     "name": "stdout",
     "output_type": "stream",
     "text": [
      "2,3,5\n"
     ]
    },
    {
     "data": {
      "text/plain": [
       "(['2', '3', '5'], ('2', '3', '5'))"
      ]
     },
     "execution_count": 22,
     "metadata": {},
     "output_type": "execute_result"
    }
   ],
   "source": [
    "def list_and_tuple():\n",
    "    \"\"\"\n",
    "    Question 4\n",
    "    Level 1\n",
    "\n",
    "    Question:\n",
    "    Write a program which accepts a sequence of comma-separated numbers from console and generate a list and a tuple \n",
    "    which contains every number.\n",
    "    Suppose the following input is supplied to the program:\n",
    "    34,67,55,33,12,98\n",
    "    Then, the output should be:\n",
    "    ['34', '67', '55', '33', '12', '98']\n",
    "    ('34', '67', '55', '33', '12', '98')\n",
    "    \"\"\"\n",
    "    num = input()\n",
    "    num=num.split(sep=',')\n",
    "    l = list(num)\n",
    "    t = tuple(l)\n",
    "    return l,t\n",
    "\n",
    "list_and_tuple()"
   ]
  },
  {
   "cell_type": "code",
   "execution_count": 35,
   "metadata": {},
   "outputs": [
    {
     "name": "stdout",
     "output_type": "stream",
     "text": [
      "heHHLlsdf\n",
      "HEHHLLSDF\n"
     ]
    }
   ],
   "source": [
    "class Str_class():\n",
    "    \"\"\"\n",
    "    Question 5\n",
    "    Level 1\n",
    "\n",
    "    Question:\n",
    "    Define a class which has at least two methods:\n",
    "    getString: to get a string from console input\n",
    "    printString: to print the string in upper case.\n",
    "    Also please include simple test function to test the class methods.\n",
    "    \"\"\"\n",
    "    def __init__(self):\n",
    "        self.s = \"\"\n",
    "    def getString(self):\n",
    "        self.s = input()\n",
    "    def printString(self):\n",
    "        print(self.s.upper()) \n",
    "        \n",
    "ss = Str_class()\n",
    "ss.getString()\n",
    "ss.printString()"
   ]
  },
  {
   "cell_type": "code",
   "execution_count": 1,
   "metadata": {},
   "outputs": [
    {
     "name": "stdout",
     "output_type": "stream",
     "text": [
      "100,150,180\n",
      "[18, 22, 24]\n"
     ]
    }
   ],
   "source": [
    "import math\n",
    "def calc():\n",
    "    \"\"\"\n",
    "    Question 6\n",
    "    Level 2\n",
    "\n",
    "    Question:\n",
    "    Write a program that calculates and prints the value according to the given formula:\n",
    "    Q = Square root of [(2 * C * D)/H]\n",
    "    Following are the fixed values of C and H:\n",
    "    C is 50. H is 30.\n",
    "    D is the variable whose values should be input to your program in a comma-separated sequence.\n",
    "    Example\n",
    "    Let us assume the following comma separated input sequence is given to the program:\n",
    "    100,150,180\n",
    "    The output of the program should be:\n",
    "    18,22,24\n",
    "    \"\"\"\n",
    "    vals = input()\n",
    "    vals = vals.split(',')\n",
    "    vals = list(map(int, vals))\n",
    "#     print(vals)\n",
    "    C=50\n",
    "    H=30\n",
    "    print([int(math.sqrt(2*C*D/H)) for D in vals])\n",
    "calc()"
   ]
  },
  {
   "cell_type": "code",
   "execution_count": 7,
   "metadata": {},
   "outputs": [
    {
     "name": "stdout",
     "output_type": "stream",
     "text": [
      "input two digits separated by comma: 3,5\n",
      "[[0. 0. 0. 0. 0.]\n",
      " [0. 1. 2. 3. 4.]\n",
      " [0. 2. 4. 6. 8.]]\n"
     ]
    }
   ],
   "source": [
    "import numpy as np\n",
    "def gen_array():\n",
    "    \"\"\"\n",
    "    Question 7\n",
    "    Level 2\n",
    "\n",
    "    Question:\n",
    "    Write a program which takes 2 digits, X,Y as input and generates a 2-dimensional array. \n",
    "    The element value in the i-th row and j-th column of the array should be i*j.\n",
    "    Note: i=0,1.., X-1; j=0,1,¡­Y-1.\n",
    "    Example\n",
    "    Suppose the following inputs are given to the program:\n",
    "    3,5\n",
    "    Then, the output of the program should be:\n",
    "    [[0, 0, 0, 0, 0], [0, 1, 2, 3, 4], [0, 2, 4, 6, 8]] \n",
    "    \"\"\"\n",
    "    l = input(\"input two digits separated by comma: \")\n",
    "    l = list(map(int,l.split(',')))\n",
    "    mat = np.zeros(tuple(l))\n",
    "    for i in range(l[0]):\n",
    "        for j in range(l[1]):\n",
    "            mat[i,j]=i*j\n",
    "    print(mat)\n",
    "gen_array()"
   ]
  },
  {
   "cell_type": "code",
   "execution_count": null,
   "metadata": {},
   "outputs": [],
   "source": []
  }
 ],
 "metadata": {
  "kernelspec": {
   "display_name": "Python 3",
   "language": "python",
   "name": "python3"
  },
  "language_info": {
   "codemirror_mode": {
    "name": "ipython",
    "version": 3
   },
   "file_extension": ".py",
   "mimetype": "text/x-python",
   "name": "python",
   "nbconvert_exporter": "python",
   "pygments_lexer": "ipython3",
   "version": "3.7.2"
  }
 },
 "nbformat": 4,
 "nbformat_minor": 2
}
