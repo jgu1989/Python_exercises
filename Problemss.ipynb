{
 "cells": [
  {
   "cell_type": "code",
   "execution_count": 2,
   "metadata": {},
   "outputs": [],
   "source": [
    "def number():\n",
    "    \"\"\"\n",
    "    Question 1\n",
    "    Level 1\n",
    "\n",
    "    Question:\n",
    "    Write a program which will find all such numbers which are divisible by 7 but are not a multiple of 5,\n",
    "    between 2000 and 3200 (both included).\n",
    "    The numbers obtained should be printed in a comma-separated sequence on a single line.\n",
    "\n",
    "    \"\"\"\n",
    "    l = []\n",
    "    for i in range(2000,3201):\n",
    "        if i%7==0 and i%5!=0:\n",
    "            l.append(i)\n",
    "    return l"
   ]
  },
  {
   "cell_type": "code",
   "execution_count": 5,
   "metadata": {},
   "outputs": [
    {
     "name": "stdout",
     "output_type": "stream",
     "text": [
      "40320\n"
     ]
    }
   ],
   "source": [
    "def fac(n):\n",
    "    \"\"\"\n",
    "    Question 2\n",
    "    Level 1\n",
    "\n",
    "    Question:\n",
    "    Write a program which can compute the factorial of a given numbers.\n",
    "    The results should be printed in a comma-separated sequence on a single line.\n",
    "    Suppose the following input is supplied to the program:\n",
    "    8\n",
    "    Then, the output should be:\n",
    "    40320\n",
    "    \"\"\"\n",
    "    if n==1: return 1\n",
    "    else: return n*fac(n-1)\n",
    "\n",
    "print(fac(8))"
   ]
  },
  {
   "cell_type": "code",
   "execution_count": 7,
   "metadata": {},
   "outputs": [
    {
     "data": {
      "text/plain": [
       "{1: 1, 2: 4, 3: 9, 4: 16, 5: 25, 6: 36, 7: 49, 8: 64}"
      ]
     },
     "execution_count": 7,
     "metadata": {},
     "output_type": "execute_result"
    }
   ],
   "source": [
    "def square(n):\n",
    "    \"\"\"\n",
    "    Question 3\n",
    "    Level 1\n",
    "\n",
    "    Question:\n",
    "    With a given integral number n, write a program to generate a dictionary that contains (i, i*i) \n",
    "    such that is an integral number between 1 and n (both included). and then the program should print the dictionary.\n",
    "    Suppose the following input is supplied to the program:\n",
    "    8\n",
    "    Then, the output should be:\n",
    "    {1: 1, 2: 4, 3: 9, 4: 16, 5: 25, 6: 36, 7: 49, 8: 64}\n",
    "\n",
    "    \"\"\"\n",
    "    dict = {}\n",
    "    for i in range(1,n+1):\n",
    "        dict[i]=i*i\n",
    "    return dict\n",
    "square(8)"
   ]
  },
  {
   "cell_type": "code",
   "execution_count": 22,
   "metadata": {},
   "outputs": [
    {
     "name": "stdout",
     "output_type": "stream",
     "text": [
      "2,3,5\n"
     ]
    },
    {
     "data": {
      "text/plain": [
       "(['2', '3', '5'], ('2', '3', '5'))"
      ]
     },
     "execution_count": 22,
     "metadata": {},
     "output_type": "execute_result"
    }
   ],
   "source": [
    "def list_and_tuple():\n",
    "    \"\"\"\n",
    "    Question 4\n",
    "    Level 1\n",
    "\n",
    "    Question:\n",
    "    Write a program which accepts a sequence of comma-separated numbers from console and generate a list and a tuple \n",
    "    which contains every number.\n",
    "    Suppose the following input is supplied to the program:\n",
    "    34,67,55,33,12,98\n",
    "    Then, the output should be:\n",
    "    ['34', '67', '55', '33', '12', '98']\n",
    "    ('34', '67', '55', '33', '12', '98')\n",
    "    \"\"\"\n",
    "    num = input()\n",
    "    num=num.split(sep=',')\n",
    "    l = list(num)\n",
    "    t = tuple(l)\n",
    "    return l,t\n",
    "\n",
    "list_and_tuple()"
   ]
  },
  {
   "cell_type": "code",
   "execution_count": 35,
   "metadata": {},
   "outputs": [
    {
     "name": "stdout",
     "output_type": "stream",
     "text": [
      "heHHLlsdf\n",
      "HEHHLLSDF\n"
     ]
    }
   ],
   "source": [
    "class Str_class():\n",
    "    \"\"\"\n",
    "    Question 5\n",
    "    Level 1\n",
    "\n",
    "    Question:\n",
    "    Define a class which has at least two methods:\n",
    "    getString: to get a string from console input\n",
    "    printString: to print the string in upper case.\n",
    "    Also please include simple test function to test the class methods.\n",
    "    \"\"\"\n",
    "    def __init__(self):\n",
    "        self.s = \"\"\n",
    "    def getString(self):\n",
    "        self.s = input()\n",
    "    def printString(self):\n",
    "        print(self.s.upper()) \n",
    "        \n",
    "ss = Str_class()\n",
    "ss.getString()\n",
    "ss.printString()"
   ]
  },
  {
   "cell_type": "code",
   "execution_count": 1,
   "metadata": {},
   "outputs": [
    {
     "name": "stdout",
     "output_type": "stream",
     "text": [
      "100,150,180\n",
      "[18, 22, 24]\n"
     ]
    }
   ],
   "source": [
    "import math\n",
    "def calc():\n",
    "    \"\"\"\n",
    "    Question 6\n",
    "    Level 2\n",
    "\n",
    "    Question:\n",
    "    Write a program that calculates and prints the value according to the given formula:\n",
    "    Q = Square root of [(2 * C * D)/H]\n",
    "    Following are the fixed values of C and H:\n",
    "    C is 50. H is 30.\n",
    "    D is the variable whose values should be input to your program in a comma-separated sequence.\n",
    "    Example\n",
    "    Let us assume the following comma separated input sequence is given to the program:\n",
    "    100,150,180\n",
    "    The output of the program should be:\n",
    "    18,22,24\n",
    "    \"\"\"\n",
    "    vals = input()\n",
    "    vals = vals.split(',')\n",
    "    vals = list(map(int, vals))\n",
    "#     print(vals)\n",
    "    C=50\n",
    "    H=30\n",
    "    print([int(math.sqrt(2*C*D/H)) for D in vals])\n",
    "calc()"
   ]
  },
  {
   "cell_type": "code",
   "execution_count": 7,
   "metadata": {},
   "outputs": [
    {
     "name": "stdout",
     "output_type": "stream",
     "text": [
      "input two digits separated by comma: 3,5\n",
      "[[0. 0. 0. 0. 0.]\n",
      " [0. 1. 2. 3. 4.]\n",
      " [0. 2. 4. 6. 8.]]\n"
     ]
    }
   ],
   "source": [
    "import numpy as np\n",
    "def gen_array():\n",
    "    \"\"\"\n",
    "    Question 7\n",
    "    Level 2\n",
    "\n",
    "    Question:\n",
    "    Write a program which takes 2 digits, X,Y as input and generates a 2-dimensional array. \n",
    "    The element value in the i-th row and j-th column of the array should be i*j.\n",
    "    Note: i=0,1.., X-1; j=0,1,¡­Y-1.\n",
    "    Example\n",
    "    Suppose the following inputs are given to the program:\n",
    "    3,5\n",
    "    Then, the output of the program should be:\n",
    "    [[0, 0, 0, 0, 0], [0, 1, 2, 3, 4], [0, 2, 4, 6, 8]] \n",
    "    \"\"\"\n",
    "    l = input(\"input two digits separated by comma: \")\n",
    "    l = list(map(int,l.split(',')))\n",
    "    mat = np.zeros(tuple(l))\n",
    "    for i in range(l[0]):\n",
    "        for j in range(l[1]):\n",
    "            mat[i,j]=i*j\n",
    "    print(mat)\n",
    "gen_array()"
   ]
  },
  {
   "cell_type": "code",
   "execution_count": 17,
   "metadata": {},
   "outputs": [
    {
     "name": "stdout",
     "output_type": "stream",
     "text": [
      "input comma separated words: without,hello,bag,world\n",
      "bag,hello,without,world\n"
     ]
    }
   ],
   "source": [
    "def sort_words():\n",
    "    \"\"\"\n",
    "    Question 8\n",
    "    Level 2\n",
    "\n",
    "    Question:\n",
    "    Write a program that accepts a comma separated sequence of words as input \n",
    "    and prints the words in a comma-separated sequence after sorting them alphabetically.\n",
    "    Suppose the following input is supplied to the program:\n",
    "    without,hello,bag,world\n",
    "    Then, the output should be:\n",
    "    bag,hello,without,world\n",
    "    \"\"\"\n",
    "    words = input(\"input comma separated words: \")\n",
    "    words = words.split(',')\n",
    "    words_sorted = sorted(words)\n",
    "\n",
    "    return \",\".join(words_sorted)\n",
    "print(sort_words())"
   ]
  },
  {
   "cell_type": "code",
   "execution_count": 29,
   "metadata": {},
   "outputs": [
    {
     "name": "stdout",
     "output_type": "stream",
     "text": [
      "hello\n",
      "HELLO\n",
      "practice\n",
      "PRACTICE\n",
      "\n"
     ]
    }
   ],
   "source": [
    "def cap():\n",
    "    \"\"\"\n",
    "    Question 9\n",
    "    Level 2\n",
    "\n",
    "    Question£º\n",
    "    Write a program that accepts sequence of lines as input and prints the lines after making all characters \n",
    "    in the sentence capitalized.\n",
    "    Suppose the following input is supplied to the program:\n",
    "    Hello world\n",
    "    Practice makes perfect\n",
    "    Then, the output should be:\n",
    "    HELLO WORLD\n",
    "    PRACTICE MAKES PERFECT\n",
    "    \"\"\"\n",
    "    while True:\n",
    "        s = input()\n",
    "        if s:\n",
    "            print(s.upper())\n",
    "        else:\n",
    "            break\n",
    "cap()"
   ]
  },
  {
   "cell_type": "code",
   "execution_count": 34,
   "metadata": {},
   "outputs": [
    {
     "name": "stdout",
     "output_type": "stream",
     "text": [
      "hello world and practice makes perfect and hello world again\n",
      "again and hello makes perfect practice world\n"
     ]
    }
   ],
   "source": [
    "def unique_sort():\n",
    "    \"\"\"\n",
    "    Question 10\n",
    "    Level 2\n",
    "\n",
    "    Question:\n",
    "    Write a program that accepts a sequence of whitespace separated words as input and \n",
    "    prints the words after removing all duplicate words and sorting them alphanumerically.\n",
    "    Suppose the following input is supplied to the program:\n",
    "    hello world and practice makes perfect and hello world again\n",
    "    Then, the output should be:\n",
    "    again and hello makes perfect practice world\n",
    "    \"\"\"\n",
    "    words = input().split()\n",
    "    words_set = set(words)\n",
    "    words_list = list(words_set)\n",
    "    words_list.sort()\n",
    "    print(\" \".join(words_list))\n",
    "unique_sort()"
   ]
  },
  {
   "cell_type": "code",
   "execution_count": 3,
   "metadata": {},
   "outputs": [
    {
     "name": "stdout",
     "output_type": "stream",
     "text": [
      "input comma separated 4 digit binary numbers: 0100,0011,1010,1001,0100,0011,1010,1001\n",
      "1010,1010\n"
     ]
    }
   ],
   "source": [
    "def five():\n",
    "    \"\"\"\n",
    "    Question 11\n",
    "    Level 2\n",
    "\n",
    "    Question:\n",
    "    Write a program which accepts a sequence of comma separated 4 digit binary numbers as its input\n",
    "    and then check whether they are divisible by 5 or not. The numbers that are divisible by 5 are\n",
    "    to be printed in a comma separated sequence.\n",
    "    Example:\n",
    "    0100,0011,1010,1001\n",
    "    Then the output should be:\n",
    "    1010\n",
    "    Notes: Assume the data is input by console.\n",
    "    \"\"\"\n",
    "    numbers = input(\"input comma separated 4 digit binary numbers: \")\n",
    "    numbers = numbers.split(',')\n",
    "    five = []\n",
    "    for number in numbers:\n",
    "        if int(number,2)%5==0:\n",
    "            five.append(number)\n",
    "    print(\",\".join(five))\n",
    "            \n",
    "five()"
   ]
  },
  {
   "cell_type": "code",
   "execution_count": 8,
   "metadata": {},
   "outputs": [
    {
     "name": "stdout",
     "output_type": "stream",
     "text": [
      "2000\n",
      "2002\n",
      "2004\n",
      "2006\n",
      "2008\n",
      "2020\n",
      "2022\n",
      "2024\n",
      "2026\n",
      "2028\n",
      "2040\n",
      "2042\n",
      "2044\n",
      "2046\n",
      "2048\n",
      "2060\n",
      "2062\n",
      "2064\n",
      "2066\n",
      "2068\n",
      "2080\n",
      "2082\n",
      "2084\n",
      "2086\n",
      "2088\n",
      "2200\n",
      "2202\n",
      "2204\n",
      "2206\n",
      "2208\n",
      "2220\n",
      "2222\n",
      "2224\n",
      "2226\n",
      "2228\n",
      "2240\n",
      "2242\n",
      "2244\n",
      "2246\n",
      "2248\n",
      "2260\n",
      "2262\n",
      "2264\n",
      "2266\n",
      "2268\n",
      "2280\n",
      "2282\n",
      "2284\n",
      "2286\n",
      "2288\n",
      "2400\n",
      "2402\n",
      "2404\n",
      "2406\n",
      "2408\n",
      "2420\n",
      "2422\n",
      "2424\n",
      "2426\n",
      "2428\n",
      "2440\n",
      "2442\n",
      "2444\n",
      "2446\n",
      "2448\n",
      "2460\n",
      "2462\n",
      "2464\n",
      "2466\n",
      "2468\n",
      "2480\n",
      "2482\n",
      "2484\n",
      "2486\n",
      "2488\n",
      "2600\n",
      "2602\n",
      "2604\n",
      "2606\n",
      "2608\n",
      "2620\n",
      "2622\n",
      "2624\n",
      "2626\n",
      "2628\n",
      "2640\n",
      "2642\n",
      "2644\n",
      "2646\n",
      "2648\n",
      "2660\n",
      "2662\n",
      "2664\n",
      "2666\n",
      "2668\n",
      "2680\n",
      "2682\n",
      "2684\n",
      "2686\n",
      "2688\n",
      "2800\n",
      "2802\n",
      "2804\n",
      "2806\n",
      "2808\n",
      "2820\n",
      "2822\n",
      "2824\n",
      "2826\n",
      "2828\n",
      "2840\n",
      "2842\n",
      "2844\n",
      "2846\n",
      "2848\n",
      "2860\n",
      "2862\n",
      "2864\n",
      "2866\n",
      "2868\n",
      "2880\n",
      "2882\n",
      "2884\n",
      "2886\n",
      "2888\n"
     ]
    }
   ],
   "source": [
    "def even():\n",
    "    \"\"\"\n",
    "    Question 12\n",
    "    Level 2\n",
    "\n",
    "    Question:\n",
    "    Write a program, which will find all such numbers between 1000 and 3000 (both included)\n",
    "    such that each digit of the number is an even number.\n",
    "    The numbers obtained should be printed in a comma-separated sequence on a single line.\n",
    "    \"\"\"\n",
    "    for i in range(1000,3001):\n",
    "        s = str(i)\n",
    "        counter = 0\n",
    "        for c in s:\n",
    "            counter += int(c)%2\n",
    "        if counter==0:\n",
    "            print(s)\n",
    "            \n",
    "even()"
   ]
  },
  {
   "cell_type": "code",
   "execution_count": 10,
   "metadata": {},
   "outputs": [
    {
     "name": "stdout",
     "output_type": "stream",
     "text": [
      "LETTERS  10\n",
      "DIGITS  3\n"
     ]
    }
   ],
   "source": [
    "def count():\n",
    "    \"\"\"\n",
    "    Question 13\n",
    "    Level 2\n",
    "\n",
    "    Question:\n",
    "    Write a program that accepts a sentence and calculate the number of letters and digits.\n",
    "    Suppose the following input is supplied to the program:\n",
    "    hello world! 123\n",
    "    Then, the output should be:\n",
    "    LETTERS 10\n",
    "    DIGITS 3\n",
    "    \"\"\"\n",
    "    s = \"hello world! 123\"\n",
    "    c_letter = 0\n",
    "    c_digit = 0\n",
    "    for c in s:\n",
    "        c_letter += c.isalpha()\n",
    "        c_digit += c.isdigit()\n",
    "        \n",
    "    print(\"LETTERS \",c_letter)\n",
    "    print(\"DIGITS \", c_digit)\n",
    "count()"
   ]
  },
  {
   "cell_type": "code",
   "execution_count": 1,
   "metadata": {},
   "outputs": [
    {
     "name": "stdout",
     "output_type": "stream",
     "text": [
      "UPPER:  1\n",
      "LOWER:  9\n"
     ]
    }
   ],
   "source": [
    "s = \"Hello world!\"\n",
    "def upper_lower(s):\n",
    "    \"\"\"\n",
    "    Question 14\n",
    "    Level 2\n",
    "\n",
    "    Question:\n",
    "    Write a program that accepts a sentence and calculate the number of upper case letters and lower case letters.\n",
    "    Suppose the following input is supplied to the program:\n",
    "    Hello world!\n",
    "    Then, the output should be:\n",
    "    UPPER CASE 1\n",
    "    LOWER CASE 9\n",
    "    \"\"\"\n",
    "    l_c = 0\n",
    "    l_u =0\n",
    "    for c in s:\n",
    "        if c.islower()==True:\n",
    "            l_c += 1\n",
    "        elif c.isupper()==True:\n",
    "            l_u += 1\n",
    "    return [l_u, l_c]\n",
    "\n",
    "count = upper_lower(s)\n",
    "print(\"UPPER: \", count[0])\n",
    "print(\"LOWER: \", count[1])\n"
   ]
  },
  {
   "cell_type": "code",
   "execution_count": 3,
   "metadata": {},
   "outputs": [
    {
     "name": "stdout",
     "output_type": "stream",
     "text": [
      "11106\n"
     ]
    }
   ],
   "source": [
    "a=9\n",
    "\n",
    "def calc(a):\n",
    "    \"\"\"\n",
    "    Question 15\n",
    "    Level 2\n",
    "\n",
    "    Question:\n",
    "    Write a program that computes the value of a+aa+aaa+aaaa with a given digit as the value of a.\n",
    "    Suppose the following input is supplied to the program:\n",
    "    9\n",
    "    Then, the output should be:\n",
    "    11106\n",
    "    \"\"\"\n",
    "    sum = 0\n",
    "    for i in range(1,5):\n",
    "        sum += int(str(a)*i)\n",
    "    print(sum)\n",
    "calc(a)"
   ]
  },
  {
   "cell_type": "code",
   "execution_count": 5,
   "metadata": {},
   "outputs": [
    {
     "name": "stdout",
     "output_type": "stream",
     "text": [
      "[1, 3, 5, 7, 9]\n"
     ]
    }
   ],
   "source": [
    "l = [1,2,3,4,5,6,7,8,9]\n",
    "def odd(l):\n",
    "    \"\"\"\n",
    "    Question 16\n",
    "    Level 2\n",
    "\n",
    "    Question:\n",
    "    Use a list comprehension to square each odd number in a list. The list is input by a sequence of comma-separated numbers.\n",
    "    Suppose the following input is supplied to the program:\n",
    "    1,2,3,4,5,6,7,8,9\n",
    "    Then, the output should be:\n",
    "    1,3,5,7,9\n",
    "    \"\"\"\n",
    "    l = [i for i in l if i%2==1]\n",
    "    print(l)\n",
    "odd(l)"
   ]
  },
  {
   "cell_type": "code",
   "execution_count": 9,
   "metadata": {},
   "outputs": [
    {
     "name": "stdout",
     "output_type": "stream",
     "text": [
      "D 300\n",
      "D 300\n",
      "W 200\n",
      "D 100\n",
      "\n",
      "500\n"
     ]
    }
   ],
   "source": [
    "def bank():\n",
    "    \"\"\"\n",
    "    Question 17\n",
    "    Level 2\n",
    "\n",
    "    Question:\n",
    "    Write a program that computes the net amount of a bank account based a transaction log from console input. \n",
    "    The transaction log format is shown as following:\n",
    "    D 100\n",
    "    W 200\n",
    "\n",
    "    D means deposit while W means withdrawal.\n",
    "    Suppose the following input is supplied to the program:\n",
    "    D 300\n",
    "    D 300\n",
    "    W 200\n",
    "    D 100\n",
    "    Then, the output should be:\n",
    "    500\n",
    "    \"\"\"\n",
    "    balance = 0\n",
    "    while True:\n",
    "        s = input()\n",
    "        if s:\n",
    "            s = s.split()\n",
    "            if s[0]== \"D\":\n",
    "                balance += int(s[1])\n",
    "            elif s[0]== \"W\":\n",
    "                balance -= int(s[1])\n",
    "        else:\n",
    "            break\n",
    "    print(balance)\n",
    "            \n",
    "bank()            "
   ]
  },
  {
   "cell_type": "code",
   "execution_count": 7,
   "metadata": {},
   "outputs": [
    {
     "name": "stdout",
     "output_type": "stream",
     "text": [
      "{'password_ok': True, 'length_error': False, 'digit_error': False, 'uppercase_error': False, 'lowercase_error': False, 'symbol_error': False}\n",
      "{'password_ok': False, 'length_error': True, 'digit_error': False, 'uppercase_error': False, 'lowercase_error': False, 'symbol_error': False}\n",
      "{'password_ok': False, 'length_error': True, 'digit_error': False, 'uppercase_error': False, 'lowercase_error': False, 'symbol_error': False}\n",
      "{'password_ok': False, 'length_error': False, 'digit_error': False, 'uppercase_error': False, 'lowercase_error': False, 'symbol_error': True}\n"
     ]
    }
   ],
   "source": [
    "# https://stackoverflow.com/questions/16709638/checking-the-strength-of-a-password-how-to-check-conditions\n",
    "\n",
    "import re\n",
    "def check_pw(password):\n",
    "    \"\"\"\n",
    "    Question 18\n",
    "    Level 3\n",
    "\n",
    "    Question:\n",
    "    A website requires the users to input username and password to register. Write a program to check the \n",
    "    validity of password input by users.\n",
    "    Following are the criteria for checking the password:\n",
    "    1. At least 1 letter between [a-z]\n",
    "    2. At least 1 number between [0-9]\n",
    "    1. At least 1 letter between [A-Z]\n",
    "    3. At least 1 character from [$#@]\n",
    "    4. Minimum length of transaction password: 6\n",
    "    5. Maximum length of transaction password: 12\n",
    "    Your program should accept a sequence of comma separated passwords and will check them according to the above criteria. Passwords that match the criteria are to be printed, each separated by a comma.\n",
    "    Example\n",
    "    If the following passwords are given as input to the program:\n",
    "    ABd1234@1,a F1#,2w3E*,2We3345\n",
    "    Then, the output of the program should be:\n",
    "    ABd1234@1\n",
    "    \"\"\"\n",
    "    # calculating the length\n",
    "    length_error = (len(password) < 6) or (len(password)>12)\n",
    "\n",
    "    # searching for digits\n",
    "    digit_error = re.search(r\"\\d\", password) is None\n",
    "\n",
    "    # searching for uppercase\n",
    "    uppercase_error = re.search(r\"[A-Z]\", password) is None\n",
    "\n",
    "    # searching for lowercase\n",
    "    lowercase_error = re.search(r\"[a-z]\", password) is None\n",
    "\n",
    "    # searching for symbols\n",
    "    symbol_error = re.search(r\"\\W\", password) is None\n",
    "\n",
    "    # overall result\n",
    "    password_ok = not ( length_error or digit_error or uppercase_error or lowercase_error or symbol_error )\n",
    "\n",
    "    return {\n",
    "        'password_ok' : password_ok,\n",
    "        'length_error' : length_error,\n",
    "        'digit_error' : digit_error,\n",
    "        'uppercase_error' : uppercase_error,\n",
    "        'lowercase_error' : lowercase_error,\n",
    "        'symbol_error' : symbol_error,\n",
    "    }\n",
    "\n",
    "for pw in [\"ABd1234@1\",\"a F1#\",\"2w3E*\",\"2We3345\"]:\n",
    "    print(check_pw(pw))"
   ]
  },
  {
   "cell_type": "code",
   "execution_count": 19,
   "metadata": {},
   "outputs": [
    {
     "name": "stdout",
     "output_type": "stream",
     "text": [
      "a, 3, 5\n",
      "a, 3, 8\n",
      "b, 7, 3\n",
      "b, 5, 4\n",
      "\n",
      "[('a', ' 3', ' 5'), ('a', ' 3', ' 8'), ('b', ' 5', ' 4'), ('b', ' 7', ' 3')]\n"
     ]
    }
   ],
   "source": [
    "from operator import itemgetter\n",
    "def mult_sort():\n",
    "    \"\"\"\n",
    "    Question 19\n",
    "    Level 3\n",
    "\n",
    "    Question:\n",
    "    You are required to write a program to sort the (name, age, height) tuples by ascending order where\n",
    "    name is string, age and height are numbers. The tuples are input by console. The sort criteria is:\n",
    "    1: Sort based on age;\n",
    "    2: Then sort based on height;\n",
    "    3: Then sort by name.\n",
    "    The priority is that  age > height > name.\n",
    "    \"\"\"\n",
    "    l = []\n",
    "    while True:\n",
    "        s = input()\n",
    "        if not s:\n",
    "            break\n",
    "        l.append(tuple(s.split(\",\")))\n",
    "\n",
    "    print(sorted(l, key=itemgetter(1,2,0)))\n",
    "mult_sort()"
   ]
  },
  {
   "cell_type": "code",
   "execution_count": 27,
   "metadata": {},
   "outputs": [
    {
     "data": {
      "text/plain": [
       "[0, 7, 14]"
      ]
     },
     "execution_count": 27,
     "metadata": {},
     "output_type": "execute_result"
    }
   ],
   "source": [
    "class iter(object):\n",
    "    \"\"\"\n",
    "    Question 20\n",
    "    Level 3\n",
    "\n",
    "    Question:\n",
    "    Define a class with a generator which can iterate the numbers, which are divisible by 7, \n",
    "    between a given range 0 and n.\n",
    "\n",
    "    Hints:\n",
    "    Consider use yield\n",
    "    \"\"\"\n",
    "    def __init__(self, n):\n",
    "        self.n = n        \n",
    "    def seven(self):\n",
    "         for i in range(self.n):\n",
    "            if i%7==0:\n",
    "                yield i\n",
    "list(iter(15).seven())"
   ]
  },
  {
   "cell_type": "code",
   "execution_count": 4,
   "metadata": {},
   "outputs": [
    {
     "name": "stdout",
     "output_type": "stream",
     "text": [
      "command: UP 5\n",
      "command: DOWN 3\n",
      "command: RIGHT 2\n",
      "command: \n",
      "2\n"
     ]
    }
   ],
   "source": [
    "import numpy as np\n",
    "def robot():\n",
    "    \"\"\"\n",
    "    Question 21\n",
    "    Level 3\n",
    "\n",
    "    Question\n",
    "    A robot moves in a plane starting from the original point (0,0). \n",
    "    The robot can move toward UP, DOWN, LEFT and RIGHT with a given steps.\n",
    "    The trace of robot movement is shown as the following:\n",
    "    UP 5\n",
    "    DOWN 3\n",
    "    LEFT 3\n",
    "    RIGHT 2\n",
    "\n",
    "    The numbers after the direction are steps. Please write a program to compute the distance \n",
    "    from current position after a sequence of movement and original point.\n",
    "    If the distance is a float, then just print the nearest integer.\n",
    "    Example:\n",
    "    If the following tuples are given as input to the program:\n",
    "    UP 5\n",
    "    DOWN 3\n",
    "    LEFT 3\n",
    "    RIGHT 2\n",
    "    Then, the output of the program should be:\n",
    "    2\n",
    "    \"\"\"\n",
    "    origin = [0,0]\n",
    "    while True:\n",
    "        s = input(\"command: \")\n",
    "        if s:\n",
    "            s = s.split()\n",
    "            if s[0] == \"UP\":\n",
    "                origin[0] += int(s[1])\n",
    "            elif s[0] == \"DOWN\":\n",
    "                origin[0] -= int(s[1])\n",
    "            elif s[0] == \"LEFT\":\n",
    "                origin[1] -= int(s[1])\n",
    "            elif s[0] == \"RIGHT\":\n",
    "                origin[1] += int(s[1])\n",
    "        else:\n",
    "            break\n",
    "    print(int(np.linalg.norm(origin)))\n",
    "robot()"
   ]
  },
  {
   "cell_type": "code",
   "execution_count": 5,
   "metadata": {},
   "outputs": [
    {
     "name": "stdout",
     "output_type": "stream",
     "text": [
      "Counter({'Python': 5, 'or': 2, '2': 2, 'New': 1, 'to': 1, 'choosing': 1, 'between': 1, 'and': 1, '3?': 1, 'Read': 1, '3.': 1})\n"
     ]
    }
   ],
   "source": [
    "import collections\n",
    "\n",
    "def freq(s):\n",
    "    \"\"\"\n",
    "    Question 22\n",
    "    Level 3\n",
    "\n",
    "    Question:\n",
    "    Write a program to compute the frequency of the words from the input. The output should output after sorting the key alphanumerically. \n",
    "    Suppose the following input is supplied to the program:\n",
    "    New to Python or choosing between Python 2 and Python 3? Read Python 2 or Python 3.\n",
    "    Then, the output should be:\n",
    "    2:2\n",
    "    3.:1\n",
    "    3?:1\n",
    "    New:1\n",
    "    Python:5\n",
    "    Read:1\n",
    "    and:1\n",
    "    between:1\n",
    "    choosing:1\n",
    "    or:2\n",
    "    to:1\n",
    "    \"\"\"\n",
    "    words = s.split()\n",
    "    counter=collections.Counter(words)\n",
    "    print(counter)\n",
    "freq(\"New to Python or choosing between Python 2 and Python 3? Read Python 2 or Python 3.\")"
   ]
  },
  {
   "cell_type": "code",
   "execution_count": 6,
   "metadata": {},
   "outputs": [
    {
     "data": {
      "text/plain": [
       "9"
      ]
     },
     "execution_count": 6,
     "metadata": {},
     "output_type": "execute_result"
    }
   ],
   "source": [
    "def square(a):\n",
    "    \"\"\"\n",
    "    Question 23\n",
    "    level 1\n",
    "\n",
    "    Question:\n",
    "        Write a method which can calculate square value of number\n",
    "    \"\"\"\n",
    "    return a**2\n",
    "square(3)"
   ]
  },
  {
   "cell_type": "code",
   "execution_count": 5,
   "metadata": {},
   "outputs": [
    {
     "name": "stdout",
     "output_type": "stream",
     "text": [
      "Return the absolute value of the argument.\n",
      "\n",
      "    question 24\n",
      "    Level 1\n",
      "\n",
      "    Question:\n",
      "    Python has many built-in functions, and if you do not know how to use it, you can read document online or\n",
      "    find some books. But Python has a built-in document function for every built-in functions.\n",
      "    Please write a program to print some Python built-in functions documents, such as abs(), int(), raw_input()\n",
      "    And add document for your own function\n",
      "    \n"
     ]
    }
   ],
   "source": [
    "def help(f):\n",
    "    \"\"\"\n",
    "    question 24\n",
    "    Level 1\n",
    "\n",
    "    Question:\n",
    "    Python has many built-in functions, and if you do not know how to use it, you can read document online or\n",
    "    find some books. But Python has a built-in document function for every built-in functions.\n",
    "    Please write a program to print some Python built-in functions documents, such as abs(), int(), raw_input()\n",
    "    And add document for your own function\n",
    "    \"\"\"\n",
    "    print(f.__doc__)\n",
    "help(abs)\n",
    "help(help)"
   ]
  },
  {
   "cell_type": "code",
   "execution_count": 6,
   "metadata": {},
   "outputs": [
    {
     "name": "stdout",
     "output_type": "stream",
     "text": [
      "7\n"
     ]
    }
   ],
   "source": [
    "def sum_nums(a,b):\n",
    "    \"\"\"\n",
    "    Question 25\n",
    "    Level 1\n",
    "\n",
    "    Question:\n",
    "    Define a function which can compute the sum of two numbers.\n",
    "    \"\"\"\n",
    "    return a+b\n",
    "print(sum_nums(2,5))"
   ]
  },
  {
   "cell_type": "code",
   "execution_count": 8,
   "metadata": {},
   "outputs": [
    {
     "name": "stdout",
     "output_type": "stream",
     "text": [
      "Hello\n",
      "world\n"
     ]
    }
   ],
   "source": [
    "def two_strings(s1,s2):\n",
    "    \"\"\"\n",
    "    Question 26\n",
    "    Question:\n",
    "    Define a function that can accept two strings as input and print the string with maximum length in console. \n",
    "    If two strings have the same length, then the function should print al l strings line by line.\n",
    "    \"\"\"\n",
    "    len1 = len(s1)\n",
    "    len2 = len(s2)\n",
    "    if len1 < len2:\n",
    "        print(s2)\n",
    "    elif len1 == len2:\n",
    "        print(s1)\n",
    "        print(s2)\n",
    "    else:\n",
    "        print(s1)\n",
    "two_strings(\"Hello\",\"world\")"
   ]
  },
  {
   "cell_type": "code",
   "execution_count": 9,
   "metadata": {},
   "outputs": [
    {
     "name": "stdout",
     "output_type": "stream",
     "text": [
      "[2, 4, 6, 8, 10]\n"
     ]
    }
   ],
   "source": [
    "def even(l):\n",
    "    \"\"\"\n",
    "    Question 27:\n",
    "    Write a program which can filter even numbers in a list by using filter function. The list is: [1,2,3,4,5,6,7,8,9,10].\n",
    "    \"\"\"\n",
    "    return list(filter(lambda x: x%2 == 0, l))\n",
    "print(even(range(1,11)))"
   ]
  },
  {
   "cell_type": "code",
   "execution_count": 12,
   "metadata": {},
   "outputs": [
    {
     "name": "stdout",
     "output_type": "stream",
     "text": [
      "[4, 16, 36, 64, 100]\n"
     ]
    }
   ],
   "source": [
    "def filter_map(l):\n",
    "    \"\"\"\n",
    "    Question 28:\n",
    "    Write a program which can map() and filter() to make a list whose elements are square of even number in [1,2,3,4,5,6,7,8,9,10].\n",
    "    \"\"\"\n",
    "    return list(map(lambda x:x**2, filter(lambda x: x%2 == 0, l)))\n",
    "print(filter_map(range(1,11)))"
   ]
  },
  {
   "cell_type": "code",
   "execution_count": 1,
   "metadata": {},
   "outputs": [
    {
     "name": "stdout",
     "output_type": "stream",
     "text": [
      "America\n"
     ]
    }
   ],
   "source": [
    "class American():\n",
    "    \"\"\"\n",
    "    Question 29:\n",
    "    Define a class named American which has a static method called printNationality.\n",
    "    \"\"\"\n",
    "    @staticmethod\n",
    "    def printNationality():\n",
    "        print(\"America\")\n",
    "person = American()\n",
    "person.printNationality()"
   ]
  },
  {
   "cell_type": "code",
   "execution_count": 2,
   "metadata": {},
   "outputs": [],
   "source": [
    "class American():\n",
    "    \"\"\"\n",
    "    Question 30:\n",
    "    Define a class named American and its subclass NewYorker. \n",
    "    \"\"\"\n",
    "    pass\n",
    "class NewYorker(American):\n",
    "    pass"
   ]
  },
  {
   "cell_type": "code",
   "execution_count": 6,
   "metadata": {},
   "outputs": [
    {
     "data": {
      "text/plain": [
       "3.141592653589793"
      ]
     },
     "execution_count": 6,
     "metadata": {},
     "output_type": "execute_result"
    }
   ],
   "source": [
    "import math\n",
    "class Circle():\n",
    "    \"\"\"\n",
    "    Question 31:\n",
    "    Define a class named Circle which can be constructed by a radius. \n",
    "    The Circle class has a method which can compute the area. \n",
    "    \"\"\"\n",
    "    def __init__(self, radius):\n",
    "        self.radius = radius\n",
    "    def area(self):\n",
    "        return math.pi*(self.radius)**2\n",
    "c_1 = Circle(1)\n",
    "c_1.area()"
   ]
  },
  {
   "cell_type": "code",
   "execution_count": 12,
   "metadata": {},
   "outputs": [
    {
     "name": "stdout",
     "output_type": "stream",
     "text": [
      "0\n",
      "4\n"
     ]
    }
   ],
   "source": [
    "class Shape():\n",
    "    \"\"\"\n",
    "    Question 32:\n",
    "    Define a class named Shape and its subclass Square. The Square class has an init function which takes a length \n",
    "    as argument. \n",
    "    Both classes have a area function which can print the area of the shape where Shape's area is 0 by default.\n",
    "    \"\"\"\n",
    "    def __init__(self,a=0):\n",
    "        self.a = a\n",
    "    def printArea(self):\n",
    "        print(self.a)\n",
    "class Square(Shape):\n",
    "    def __init__(self, l):\n",
    "        self.length = l\n",
    "        self.a = l**l\n",
    "s = Shape()\n",
    "s.printArea()\n",
    "sq = Square(2)\n",
    "sq.printArea()"
   ]
  },
  {
   "cell_type": "code",
   "execution_count": 14,
   "metadata": {},
   "outputs": [
    {
     "ename": "RuntimeError",
     "evalue": "Error!",
     "output_type": "error",
     "traceback": [
      "\u001b[0;31m---------------------------------------------------------------------------\u001b[0m",
      "\u001b[0;31mRuntimeError\u001b[0m                              Traceback (most recent call last)",
      "\u001b[0;32m<ipython-input-14-402cbfa7d1e9>\u001b[0m in \u001b[0;36m<module>\u001b[0;34m()\u001b[0m\n\u001b[1;32m      9\u001b[0m     \"\"\"\n\u001b[1;32m     10\u001b[0m     \u001b[0;32mraise\u001b[0m \u001b[0mRuntimeError\u001b[0m\u001b[0;34m(\u001b[0m\u001b[0;34m\"Error!\"\u001b[0m\u001b[0;34m)\u001b[0m\u001b[0;34m\u001b[0m\u001b[0;34m\u001b[0m\u001b[0m\n\u001b[0;32m---> 11\u001b[0;31m \u001b[0mraiseError\u001b[0m\u001b[0;34m(\u001b[0m\u001b[0;34m)\u001b[0m\u001b[0;34m\u001b[0m\u001b[0;34m\u001b[0m\u001b[0m\n\u001b[0m",
      "\u001b[0;32m<ipython-input-14-402cbfa7d1e9>\u001b[0m in \u001b[0;36mraiseError\u001b[0;34m()\u001b[0m\n\u001b[1;32m      8\u001b[0m     \u001b[0mUse\u001b[0m \u001b[0;32mraise\u001b[0m\u001b[0;34m(\u001b[0m\u001b[0;34m)\u001b[0m \u001b[0mto\u001b[0m \u001b[0;32mraise\u001b[0m \u001b[0man\u001b[0m \u001b[0mexception\u001b[0m\u001b[0;34m.\u001b[0m\u001b[0;34m\u001b[0m\u001b[0;34m\u001b[0m\u001b[0m\n\u001b[1;32m      9\u001b[0m     \"\"\"\n\u001b[0;32m---> 10\u001b[0;31m     \u001b[0;32mraise\u001b[0m \u001b[0mRuntimeError\u001b[0m\u001b[0;34m(\u001b[0m\u001b[0;34m\"Error!\"\u001b[0m\u001b[0;34m)\u001b[0m\u001b[0;34m\u001b[0m\u001b[0;34m\u001b[0m\u001b[0m\n\u001b[0m\u001b[1;32m     11\u001b[0m \u001b[0mraiseError\u001b[0m\u001b[0;34m(\u001b[0m\u001b[0;34m)\u001b[0m\u001b[0;34m\u001b[0m\u001b[0;34m\u001b[0m\u001b[0m\n",
      "\u001b[0;31mRuntimeError\u001b[0m: Error!"
     ]
    }
   ],
   "source": [
    "def raiseError():\n",
    "    \"\"\"\n",
    "    Question 33:\n",
    "    Please raise a RuntimeError exception.\n",
    "\n",
    "    Hints:\n",
    "\n",
    "    Use raise() to raise an exception.\n",
    "    \"\"\"\n",
    "    raise RuntimeError(\"Error!\")\n",
    "raiseError()"
   ]
  },
  {
   "cell_type": "code",
   "execution_count": 18,
   "metadata": {},
   "outputs": [
    {
     "name": "stdout",
     "output_type": "stream",
     "text": [
      "jiegu\n"
     ]
    }
   ],
   "source": [
    "def getUser(email):\n",
    "    \"\"\"\n",
    "    Question 34:\n",
    "\n",
    "    Assuming that we have some email addresses in the \"username@companyname.com\" format, \n",
    "    please write program to print the user name of a given email address.\n",
    "    Both user names and company names are composed of letters only.\n",
    "    \"\"\"\n",
    "    print(email.split(\"@\")[0])\n",
    "getUser(\"jiegu@companyname.edu\")"
   ]
  },
  {
   "cell_type": "code",
   "execution_count": 1,
   "metadata": {},
   "outputs": [
    {
     "name": "stdout",
     "output_type": "stream",
     "text": [
      "['2', '3']\n"
     ]
    }
   ],
   "source": [
    "def digits(words):\n",
    "    \"\"\"\n",
    "    Question 35:\n",
    "\n",
    "    Write a program which accepts a sequence of words separated by whitespace as input to print the words composed of digits only.\n",
    "\n",
    "    Example:\n",
    "    If the following words is given as input to the program:\n",
    "\n",
    "    2 cats and 3 dogs.\n",
    "\n",
    "    Then, the output of the program should be:\n",
    "\n",
    "    ['2', '3']\n",
    "    \"\"\"\n",
    "    words = words.split()\n",
    "    return [w for w in words if w.isdigit()]\n",
    "print(digits(\"2 cats and 3 dogs.\"))"
   ]
  },
  {
   "cell_type": "code",
   "execution_count": 9,
   "metadata": {},
   "outputs": [
    {
     "data": {
      "text/plain": [
       "3.5500000000000003"
      ]
     },
     "execution_count": 9,
     "metadata": {},
     "output_type": "execute_result"
    }
   ],
   "source": [
    "def series(n):\n",
    "    \"\"\"\n",
    "    Question 36:\n",
    "\n",
    "    Write a program to compute 1/2+2/3+3/4+...+n/n+1 with a given n input by console (n>0).\n",
    "\n",
    "    Example:\n",
    "    If the following n is given as input to the program:\n",
    "\n",
    "    5\n",
    "\n",
    "    Then, the output of the program should be:\n",
    "\n",
    "    3.55\n",
    "    \"\"\"\n",
    "    sum = 0\n",
    "    for i in range(1,n+1):\n",
    "        sum += i/(i+1)\n",
    "    return sum\n",
    "series(5)"
   ]
  },
  {
   "cell_type": "code",
   "execution_count": 12,
   "metadata": {},
   "outputs": [
    {
     "data": {
      "text/plain": [
       "500"
      ]
     },
     "execution_count": 12,
     "metadata": {},
     "output_type": "execute_result"
    }
   ],
   "source": [
    "def f(n):\n",
    "    \"\"\"\n",
    "    Question 37:\n",
    "\n",
    "    Write a program to compute:\n",
    "\n",
    "    f(n)=f(n-1)+100 when n>0\n",
    "    and f(0)=0\n",
    "\n",
    "    with a given n input by console (n>0).\n",
    "\n",
    "    Example:\n",
    "    If the following n is given as input to the program:\n",
    "\n",
    "    5\n",
    "\n",
    "    Then, the output of the program should be:\n",
    "\n",
    "    500\n",
    "    \"\"\"\n",
    "    if n==0:\n",
    "        return 0\n",
    "    else:\n",
    "        return f(n-1)+100\n",
    "f(5)"
   ]
  },
  {
   "cell_type": "code",
   "execution_count": null,
   "metadata": {},
   "outputs": [],
   "source": []
  }
 ],
 "metadata": {
  "kernelspec": {
   "display_name": "Python 3",
   "language": "python",
   "name": "python3"
  },
  "language_info": {
   "codemirror_mode": {
    "name": "ipython",
    "version": 3
   },
   "file_extension": ".py",
   "mimetype": "text/x-python",
   "name": "python",
   "nbconvert_exporter": "python",
   "pygments_lexer": "ipython3",
   "version": "3.7.2"
  }
 },
 "nbformat": 4,
 "nbformat_minor": 2
}
